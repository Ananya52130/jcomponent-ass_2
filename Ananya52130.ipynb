{
  "nbformat": 4,
  "nbformat_minor": 0,
  "metadata": {
    "colab": {
      "name": "jcomponent assiign2.ipynb",
      "provenance": []
    },
    "kernelspec": {
      "name": "python3",
      "display_name": "Python 3"
    },
    "language_info": {
      "name": "python"
    }
  },
  "cells": [
    {
      "cell_type": "code",
      "metadata": {
        "colab": {
          "base_uri": "https://localhost:8080/"
        },
        "id": "C_G90ePoI6Fq",
        "outputId": "da3f89f2-e014-44d9-a6f4-b74496a8ade7"
      },
      "source": [
        "import numpy as np\n",
        "  \n",
        "x1=[3.2,3.2,3.7,3.9,4,4,4.1,4.5,4.9,5.1,5.3,5.9,6]\n",
        "y=[54445,64445,57189,63218,55794,56957,57081,61111,67938,66029,83088,81363,93940]\n",
        "yp=[]\n",
        "e=[]\n",
        "\n",
        "m=[1235,1500,1850,2000]\n",
        "c=[1900,1950,2000,2100]\n",
        "\n",
        "def linear(m,c):\n",
        "  sum=0\n",
        "\n",
        "  for i in range(0,len(x1)):\n",
        "    yp.append(m*x1[i]+c)\n",
        "    g=(y[i]-yp[i])**2\n",
        "    sum=sum+g\n",
        "    e.append(g)\n",
        "    print('mean square error is:',np.mod(sum,len(x1)))\n",
        "    sum=0\n",
        "\n",
        "for i in range(0,1):\n",
        "  linear(m[i],c[i])"
      ],
      "execution_count": null,
      "outputs": [
        {
          "output_type": "stream",
          "name": "stdout",
          "text": [
            "mean square error is: 1.0\n",
            "mean square error is: 4.0\n",
            "mean square error is: 3.25\n",
            "mean square error is: 12.25\n",
            "mean square error is: 3\n",
            "mean square error is: 4\n",
            "mean square error is: 6.25\n",
            "mean square error is: 6.25\n",
            "mean square error is: 7.25\n",
            "mean square error is: 3.25\n",
            "mean square error is: 12.25\n",
            "mean square error is: 0.25\n",
            "mean square error is: 0\n"
          ]
        }
      ]
    }
  ]
}